{
 "cells": [
  {
   "cell_type": "markdown",
   "metadata": {},
   "source": [
    "# Arrays"
   ]
  },
  {
   "cell_type": "code",
   "execution_count": null,
   "metadata": {},
   "outputs": [],
   "source": [
    "a=Array(100,200)"
   ]
  },
  {
   "cell_type": "code",
   "execution_count": null,
   "metadata": {},
   "outputs": [],
   "source": [
    "b=Array(100)"
   ]
  },
  {
   "cell_type": "code",
   "execution_count": null,
   "metadata": {},
   "outputs": [],
   "source": [
    "c=Array.from(b,(x,i)=>(i+1)*2)"
   ]
  },
  {
   "cell_type": "code",
   "execution_count": null,
   "metadata": {},
   "outputs": [],
   "source": [
    "c.find((x,i)=>i===4)"
   ]
  },
  {
   "cell_type": "markdown",
   "metadata": {},
   "source": [
    "# Fechas\n",
    "\n",
    "Ver `date-wrangler.js` en la carpeta `utils`"
   ]
  },
  {
   "cell_type": "code",
   "execution_count": null,
   "metadata": {},
   "outputs": [],
   "source": [
    "function addDays(date, daysToAdd) {\n",
    "    const clone = new Date(date.getTime());\n",
    "    clone.setDate(clone.getDate() + daysToAdd);\n",
    "    return clone;\n",
    "}"
   ]
  },
  {
   "cell_type": "code",
   "execution_count": null,
   "metadata": {},
   "outputs": [],
   "source": [
    "f1= Date.now() //number\n",
    "f2=Date() //string\n",
    "f3=new Date() //object\n",
    "f4 = Date.parse(f2) //number\n",
    "f5=new Date(\"10/14/1969\")\n"
   ]
  },
  {
   "cell_type": "code",
   "execution_count": null,
   "metadata": {},
   "outputs": [],
   "source": [
    "console.log(`${typeof f1} - ${f1}`)\n",
    "console.log(`${typeof f2} - ${f2}`)\n",
    "console.log(`${typeof f3} - ${f3}`)\n",
    "console.log(`${typeof f4} - ${f4}`)\n"
   ]
  },
  {
   "cell_type": "code",
   "execution_count": null,
   "metadata": {},
   "outputs": [],
   "source": [
    "console.log(`${f3.getFullYear()} - ${f3.getMonth()} - ${f3.getDate()} - ${f3.getHours()} - ${f3.getMinutes()} - ${f3.getSeconds()}`)\n",
    "\n",
    "console.log(`Dia de la semana: ${f3.getDay()}`)\n",
    "console.log(`${f3.getTime()}`)\n",
    "\n",
    "console.log(`${Date.now()-f5.getTime()}`)"
   ]
  },
  {
   "cell_type": "markdown",
   "metadata": {},
   "source": [
    "Operaciones con fechas"
   ]
  },
  {
   "cell_type": "code",
   "execution_count": null,
   "metadata": {},
   "outputs": [],
   "source": [
    "f6=new Date(f3.getTime()) //clone de la fecha f3\n",
    "f6.setDate(f6.getDate() +10) //suma 10 dias\n",
    "f6.setDate(f6.getDate() - 5) //resta 5 dias\n",
    "f6.setMonth(f6.getMonth() - 1) //resta 1 mes"
   ]
  },
  {
   "cell_type": "code",
   "execution_count": null,
   "metadata": {},
   "outputs": [],
   "source": [
    "console.log(`Número de dias: ${Math.ceil((f3- f5)/1000/60/60/24)}`)\n",
    "console.log(`Número de años: ${Math.ceil((f3 - f5) / 1000 / 60 / 60 / 24 / 365)}`)"
   ]
  },
  {
   "cell_type": "markdown",
   "metadata": {},
   "source": [
    "Formato ISO de la fecha"
   ]
  },
  {
   "cell_type": "code",
   "execution_count": null,
   "metadata": {},
   "outputs": [],
   "source": [
    "console.log(`${f6.toISOString()}\\n${f6.toISOString().split(\"T\")[0]}\\n${f6.toISOString().split(\"T\")[1]}`)"
   ]
  },
  {
   "cell_type": "code",
   "execution_count": null,
   "metadata": {},
   "outputs": [],
   "source": [
    "f6.toLocaleDateString()"
   ]
  },
  {
   "cell_type": "code",
   "execution_count": null,
   "metadata": {},
   "outputs": [],
   "source": [
    "f6.getDate() + 10\n",
    "ff=new Date(f6.getTime())"
   ]
  },
  {
   "cell_type": "markdown",
   "metadata": {},
   "source": [
    "# Closures y Promises\n",
    "\n",
    "Una closure"
   ]
  },
  {
   "cell_type": "code",
   "execution_count": 4,
   "metadata": {},
   "outputs": [
    {
     "name": "stdout",
     "output_type": "stream",
     "text": [
      "10\n",
      "90\n",
      "720\n",
      "5040\n",
      "30240\n",
      "151200\n",
      "604800\n",
      "1814400\n",
      "3628800\n",
      "3628800\n"
     ]
    }
   ],
   "source": [
    "function factorial(valor){\n",
    "    let total=1;\n",
    "    let seed=valor;\n",
    "    function fu(){\n",
    "        if(seed>0){\n",
    "            total*=seed;\n",
    "            seed--;\n",
    "        }\n",
    "        fin = seed == 0;\n",
    "        return {total,fin};\n",
    "    }\n",
    "    return fu;\n",
    "}\n",
    "const func=factorial(10);\n",
    "\n",
    "do {\n",
    "    resp = func();\n",
    "    console.log(resp.total)\n",
    "} while (!resp.fin) "
   ]
  },
  {
   "cell_type": "code",
   "execution_count": 5,
   "metadata": {},
   "outputs": [
    {
     "data": {
      "text/plain": [
       "{ total: 3628800, fin: true }"
      ]
     },
     "execution_count": 5,
     "metadata": {},
     "output_type": "execute_result"
    }
   ],
   "source": [
    "func()"
   ]
  },
  {
   "cell_type": "code",
   "execution_count": 1,
   "metadata": {},
   "outputs": [],
   "source": [
    "const respuesta={\n",
    "    datos:[\n",
    "        {\n",
    "            nombre:'Eugenio',\n",
    "            edad:53\n",
    "        },\n",
    "        {\n",
    "        nombre: 'Pupa',\n",
    "        edad: 17\n",
    "    }\n",
    "    ]\n",
    "}"
   ]
  },
  {
   "cell_type": "markdown",
   "metadata": {},
   "source": [
    "y ahora podemos crear una función que use una closure que nos retorne el estado de una promise"
   ]
  },
  {
   "cell_type": "code",
   "execution_count": 1,
   "metadata": {},
   "outputs": [],
   "source": [
    "function procesa(promesa){\n",
    "    let estado='pdte'\n",
    "    let datos=undefined\n",
    "    let error=undefined\n",
    "    let finalizado=false\n",
    "\n",
    "    function f(){\n",
    "        promesa.then(x => { \n",
    "            datos = x; \n",
    "            estado = 'fin'; \n",
    "            finalizado = true; \n",
    "        })\n",
    "               .catch(x => {\n",
    "                   error = x; \n",
    "                   estado = 'error'; \n",
    "                   finalizado = true; \n",
    "                });\n",
    "        return { estado, finalizado,datos, error }\n",
    "    }\n",
    "\n",
    "    return f;\n",
    "}"
   ]
  },
  {
   "cell_type": "code",
   "execution_count": 2,
   "metadata": {},
   "outputs": [
    {
     "name": "stdout",
     "output_type": "stream",
     "text": [
      "Promise { <pending> }\n"
     ]
    }
   ],
   "source": [
    "promesa = new Promise(f => { setTimeout(() => { f(respuesta) }, 5000); });\n",
    "console.log(promesa)\n",
    "const funcion = procesa(promesa);"
   ]
  },
  {
   "cell_type": "code",
   "execution_count": 3,
   "metadata": {},
   "outputs": [
    {
     "data": {
      "text/plain": [
       "{\n",
       "  estado: 'pdte',\n",
       "  finalizado: false,\n",
       "  datos: undefined,\n",
       "  error: undefined\n",
       "}"
      ]
     },
     "execution_count": 3,
     "metadata": {},
     "output_type": "execute_result"
    }
   ],
   "source": [
    "resp = funcion()"
   ]
  }
 ],
 "metadata": {
  "kernelspec": {
   "display_name": "Javascript (Node.js)",
   "language": "javascript",
   "name": "javascript"
  },
  "language_info": {
   "file_extension": ".js",
   "mimetype": "application/javascript",
   "name": "javascript",
   "version": "16.13.1"
  },
  "orig_nbformat": 4
 },
 "nbformat": 4,
 "nbformat_minor": 2
}
